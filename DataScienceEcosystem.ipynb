{
 "cells": [
  {
   "cell_type": "markdown",
   "id": "a242f937-f201-4480-9015-0ec4803bde8f",
   "metadata": {},
   "source": [
    "## Data Science Tools and Ecosystem"
   ]
  },
  {
   "cell_type": "markdown",
   "id": "f64e8cce-98b1-42b4-9a7a-e27c6ec64b8a",
   "metadata": {},
   "source": [
    "In this notebook, Data Science Tools and Ecosystem are summarized."
   ]
  },
  {
   "cell_type": "markdown",
   "id": "0e27e9ed-6006-43ca-a8e1-96bf49a73dbd",
   "metadata": {},
   "source": [
    "**Objectives:** \n",
    "* List popular languages for Data Science.\n",
    "* Lİst some popular Data Science tools.\n",
    "* Some arithmetic expressions.\n",
    "* List popular libraries for Data Science."
   ]
  },
  {
   "cell_type": "markdown",
   "id": "11696c99-fdc2-4fc5-8e3d-8e5f49ed5fba",
   "metadata": {},
   "source": [
    "Some of the popular languages that Data Scientists use are:\n",
    "\n",
    "1. Python\n",
    "2. R\n",
    "3. Scala\n",
    "4. Java"
   ]
  },
  {
   "cell_type": "markdown",
   "id": "55cc9990-a379-4ace-8563-3f654e6cd285",
   "metadata": {},
   "source": [
    "Some of the commonly used libraries used by Data Scientists include:\n",
    "\n",
    "1. keras\n",
    "2. pandas\n",
    "3. tensorflow\n",
    "4. ggplot\n",
    "5. scikit-learn"
   ]
  },
  {
   "cell_type": "markdown",
   "id": "f6a53bb9-fbd7-4789-b2cd-36ff9e2e2bc9",
   "metadata": {},
   "source": [
    "|Data Science Tools|\n",
    "|------------------|\n",
    "|JupyterLab|\n",
    "|GitHUB|\n",
    "|Rstudio|\n"
   ]
  },
  {
   "cell_type": "markdown",
   "id": "68ac67c7-c09f-4703-b7e8-c2fda6e9e8f1",
   "metadata": {},
   "source": [
    "### Below are a few examples of evaluating arithmetic expressions in Python."
   ]
  },
  {
   "cell_type": "code",
   "execution_count": 1,
   "id": "5b472c60-c07a-41c4-9625-a73cd0a38b71",
   "metadata": {
    "tags": []
   },
   "outputs": [
    {
     "data": {
      "text/plain": [
       "17"
      ]
     },
     "execution_count": 1,
     "metadata": {},
     "output_type": "execute_result"
    }
   ],
   "source": [
    "# This a simple arithmetic expression to mutiply then add integers.\n",
    "(3*4)+5"
   ]
  },
  {
   "cell_type": "code",
   "execution_count": 2,
   "id": "f7f410be-b427-4543-8618-3eb1b895f112",
   "metadata": {
    "tags": []
   },
   "outputs": [
    {
     "data": {
      "text/plain": [
       "3.3333333333333335"
      ]
     },
     "execution_count": 2,
     "metadata": {},
     "output_type": "execute_result"
    }
   ],
   "source": [
    "#This will convert 200 minutes to hours by diving by 60.\n",
    "\n",
    "200/60"
   ]
  },
  {
   "cell_type": "markdown",
   "id": "606d10a8-a760-4945-9e9b-e6b5775bbfce",
   "metadata": {},
   "source": [
    "## Author\n",
    "\n",
    "Muhammet Furkan ÇAKMAK"
   ]
  },
  {
   "cell_type": "code",
   "execution_count": null,
   "id": "ebc850dc-e791-45c0-8ae3-58e0965df423",
   "metadata": {},
   "outputs": [],
   "source": []
  }
 ],
 "metadata": {
  "kernelspec": {
   "display_name": "Python 3 (ipykernel)",
   "language": "python",
   "name": "python3"
  },
  "language_info": {
   "codemirror_mode": {
    "name": "ipython",
    "version": 3
   },
   "file_extension": ".py",
   "mimetype": "text/x-python",
   "name": "python",
   "nbconvert_exporter": "python",
   "pygments_lexer": "ipython3",
   "version": "3.12.5"
  }
 },
 "nbformat": 4,
 "nbformat_minor": 5
}
